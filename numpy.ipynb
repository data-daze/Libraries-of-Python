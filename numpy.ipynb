{
 "cells": [
  {
   "cell_type": "code",
   "execution_count": null,
   "id": "8123f5a3",
   "metadata": {},
   "outputs": [],
   "source": [
    "import numpy as np\n",
    "\n",
    "a=np.array([10,20,30])\n",
    "b=np.array([40,50,60])\n",
    "print(a)\n",
    "print(b)\n",
    "print(a*b)"
   ]
  },
  {
   "cell_type": "code",
   "execution_count": 1,
   "id": "15ff4834",
   "metadata": {},
   "outputs": [
    {
     "name": "stdout",
     "output_type": "stream",
     "text": [
      "[10, 20, 30, 40, 50, 60]\n"
     ]
    }
   ],
   "source": [
    "ls1=[10,20,30]\n",
    "ls2=[40,50,60]\n",
    "print(ls1+ls2)\n"
   ]
  },
  {
   "cell_type": "code",
   "execution_count": null,
   "id": "dffa1fd7",
   "metadata": {},
   "outputs": [],
   "source": [
    "#creation. indexing,slicing of nympy array\n",
    "\n",
    "ss=np.array([10,20,30,40])\n",
    "\n",
    "print(ss[0:3])#first three elements\n",
    "print(ss[0:])# start from zero index to end\n",
    "print(ss[3:])#after index three to end\n",
    "print(ss[2:])# after index two to end\n",
    "print(ss[:3])# for getting first three element\n",
    "\n",
    "sss=np.array([[10,20,30,40],[60,70,90,80]])\n",
    "print(sss[0:2,0:2])# for getting first two element from each sub array \n",
    "print(sss[0:2,0:3])# we will get three element for each array\n",
    "print(sss[0,1:3])# index 0, starting value 1 & ending value three\n",
    "print(sss[1,2:4])#index 1 means (second one), staring value 2 and ending value 4\n",
    "\n",
    "\n",
    "\n",
    "\n",
    "\n",
    "\n",
    "s=np.array([[10,20,30,40],[60,70,90,80],[12,23,34,45]])\n",
    "print(s)\n",
    "print(type(s))\n",
    "print(s[2,2])#2nd number index and 2nd number element\n",
    "#attributies of array\n",
    "print(np.shape(s))#rows & columns\n",
    "print(np.size(s))#total elements\n",
    "print(np.ndim(s))\n",
    "print(np.size(s))\n",
    "\n"
   ]
  },
  {
   "cell_type": "code",
   "execution_count": null,
   "id": "3d5e8d0d",
   "metadata": {},
   "outputs": [],
   "source": [
    "#inspecting an array\n",
    "arr=[[12,23,20],[23,21,40]]\n",
    "a=np.array(arr)\n",
    "print(a)\n",
    "print(a.shape)# answer shows the number of columns and number of rows\n",
    "print(len(a))#number of size of an array(number of nested values)\n",
    "print(np.size(a))#number of array elements \n",
    "print(type(a))#f type of variable\n",
    "print(a.dtype)# data type of array elements\n",
    "print(a.astype(float))# converting data type\n"
   ]
  },
  {
   "cell_type": "code",
   "execution_count": null,
   "id": "acf7c814",
   "metadata": {},
   "outputs": [],
   "source": [
    "#mathmetical operaton & function on arrays\n",
    "\n",
    "arr1=np.array([[10,20],[30,40]])\n",
    "arr2=np.array([[50,60],[70,80]])\n",
    "print(arr1+arr2)\n",
    "print(np.add(arr1,arr2))"
   ]
  },
  {
   "cell_type": "code",
   "execution_count": null,
   "id": "0a7482f4",
   "metadata": {},
   "outputs": [],
   "source": [
    "arr1=np.array([[10,20],[30,40]])\n",
    "arr2=np.array([[50,60],[70,80]])\n",
    "print(arr1-arr2)\n",
    "print(np.subtract(arr1,arr2))"
   ]
  },
  {
   "cell_type": "code",
   "execution_count": null,
   "id": "15a6cc91",
   "metadata": {},
   "outputs": [],
   "source": [
    "arr1=np.array([[10,20],[30,40]])\n",
    "arr2=np.array([[50,60],[70,80]])\n",
    "print(arr1*arr2)\n",
    "print(np.multiply(arr1,arr2))"
   ]
  },
  {
   "cell_type": "code",
   "execution_count": null,
   "id": "182dc41e",
   "metadata": {},
   "outputs": [],
   "source": [
    "arr1=np.array([[10,20],[30,40]])\n",
    "arr2=np.array([[50,60],[70,80]])\n",
    "print(arr1/arr2)\n",
    "print(np.divide(arr1,arr2))"
   ]
  },
  {
   "cell_type": "code",
   "execution_count": null,
   "id": "d0eb898e",
   "metadata": {},
   "outputs": [],
   "source": [
    "\n",
    "arr1=np.array([[10,20],[30,40]])\n",
    "arr2=np.array([2])\n",
    "\n",
    "print(np.power(arr1,arr2))"
   ]
  },
  {
   "cell_type": "code",
   "execution_count": null,
   "id": "7817ffb9",
   "metadata": {},
   "outputs": [],
   "source": [
    "\n",
    "arr1=np.array([[10,20],[30,40]])\n",
    "\n",
    "\n",
    "print(np.sqrt(arr1))"
   ]
  },
  {
   "cell_type": "code",
   "execution_count": null,
   "id": "e40f83b3",
   "metadata": {},
   "outputs": [],
   "source": [
    "#combing and spiliting array\n",
    "\n",
    "#concatenate\n",
    "a=np.array([1,2,3,])\n",
    "b=np.array([4,5,6,])\n",
    "print(np.concatenate([a,b]))"
   ]
  },
  {
   "cell_type": "code",
   "execution_count": null,
   "id": "2ce4e1db",
   "metadata": {},
   "outputs": [],
   "source": [
    "#concatenate\n",
    "a=np.array([[1,2],[0,3,]])\n",
    "b=np.array([[4,5,],[10,6,]])\n",
    "#print(np.concatenate([a,b]), axis=1)\n",
    "print(np.hstack([a,b])) #horizontal concatination\n",
    "print(np.vstack([a,b])) # vertical concatination "
   ]
  },
  {
   "cell_type": "code",
   "execution_count": 1,
   "id": "411ec163",
   "metadata": {},
   "outputs": [
    {
     "ename": "NameError",
     "evalue": "name 'np' is not defined",
     "output_type": "error",
     "traceback": [
      "\u001b[0;31m---------------------------------------------------------------------------\u001b[0m",
      "\u001b[0;31mNameError\u001b[0m                                 Traceback (most recent call last)",
      "Cell \u001b[0;32mIn[1], line 2\u001b[0m\n\u001b[1;32m      1\u001b[0m \u001b[38;5;66;03m#spliting\u001b[39;00m\n\u001b[0;32m----> 2\u001b[0m a\u001b[38;5;241m=\u001b[39m\u001b[43mnp\u001b[49m\u001b[38;5;241m.\u001b[39marray([\u001b[38;5;241m10\u001b[39m,\u001b[38;5;241m20\u001b[39m,\u001b[38;5;241m30\u001b[39m,\u001b[38;5;241m40\u001b[39m,\u001b[38;5;241m50\u001b[39m,\u001b[38;5;241m60\u001b[39m])\n\u001b[1;32m      3\u001b[0m b\u001b[38;5;241m=\u001b[39mnp\u001b[38;5;241m.\u001b[39marray_split(a,\u001b[38;5;241m3\u001b[39m)\n\u001b[1;32m      4\u001b[0m \u001b[38;5;28mprint\u001b[39m(b)\n",
      "\u001b[0;31mNameError\u001b[0m: name 'np' is not defined"
     ]
    }
   ],
   "source": [
    "#spliting\n",
    "a=np.array([10,20,30,40,50,60])\n",
    "b=np.array_split(a,3)\n",
    "print(b)\n",
    "b=np.array_split(a,4)\n",
    "print(b)\n",
    "b=np.array_split(a,5)\n",
    "print(b)\n",
    "\n",
    "\n",
    "a=np.array([[10,20,30],[40,50,60]])\n",
    "b=np.array_split(a,2)\n",
    "print(b)"
   ]
  },
  {
   "cell_type": "code",
   "execution_count": 6,
   "id": "dbac2594",
   "metadata": {},
   "outputs": [
    {
     "name": "stdout",
     "output_type": "stream",
     "text": [
      "[ 20  40  60  80  90 100]\n"
     ]
    }
   ],
   "source": [
    "#adding and removing element from an array\n",
    "\n",
    "import numpy as np\n",
    "#a=np.array([20,40,60,80])\n",
    "#print(np.append(a,90))\n",
    "\n",
    "a=np.array([[20,40],[60,80]])\n",
    "print(np.append(a,[90,100]))"
   ]
  },
  {
   "cell_type": "code",
   "execution_count": 23,
   "id": "3445f093",
   "metadata": {},
   "outputs": [
    {
     "name": "stdout",
     "output_type": "stream",
     "text": [
      "[20 40 60 80]\n",
      "[20 60 80]\n"
     ]
    }
   ],
   "source": [
    "\n",
    "\n",
    "print(a)\n",
    "print(np.delete(a,1))# axis=1"
   ]
  },
  {
   "cell_type": "code",
   "execution_count": 35,
   "id": "d4aae1e4",
   "metadata": {},
   "outputs": [
    {
     "name": "stdout",
     "output_type": "stream",
     "text": [
      "[[ 1  2  3  5  6  7 12]\n",
      " [ 0  1  2  3  3  6  7]]\n"
     ]
    }
   ],
   "source": [
    "#sorttin, filter, search\n",
    "\n",
    "import numpy as np\n",
    "\n",
    "ar=np.array([[2,1,5,3,6,7,12],[2,7,1,6,3,0,3]])\n",
    "print(np.sort(ar))\n",
    " "
   ]
  },
  {
   "cell_type": "code",
   "execution_count": 37,
   "id": "b1b331b9",
   "metadata": {},
   "outputs": [
    {
     "name": "stdout",
     "output_type": "stream",
     "text": [
      "(array([0, 4]),)\n"
     ]
    }
   ],
   "source": [
    "a=np.array([2,3,1,5,6,7])\n",
    "#s=np.where(a == 3)\n",
    "s=np.where(a % 2 == 0)\n",
    "print(s)"
   ]
  },
  {
   "cell_type": "code",
   "execution_count": 39,
   "id": "cb29ee4f",
   "metadata": {},
   "outputs": [
    {
     "name": "stdout",
     "output_type": "stream",
     "text": [
      "3\n"
     ]
    }
   ],
   "source": [
    "a=np.array([2,3,4,5,6,7])\n",
    "s=np.searchsorted(a,5)\n",
    "print(s)"
   ]
  },
  {
   "cell_type": "code",
   "execution_count": 42,
   "id": "ede7e5a8",
   "metadata": {},
   "outputs": [
    {
     "name": "stdout",
     "output_type": "stream",
     "text": [
      "[2 3]\n"
     ]
    }
   ],
   "source": [
    "a=np.array([2,3,4,5,6,7])\n",
    "#fi=[True, False,True, False, False,True ]\n",
    "fi=a<4\n",
    "new=a[fi]\n",
    "print(new)"
   ]
  },
  {
   "cell_type": "code",
   "execution_count": 45,
   "id": "a4281837",
   "metadata": {},
   "outputs": [
    {
     "name": "stdout",
     "output_type": "stream",
     "text": [
      "200\n",
      "80\n",
      "20\n",
      "4\n",
      "50.0\n",
      "[ 20  60 120 200]\n",
      "[     20     800   48000 3840000]\n"
     ]
    }
   ],
   "source": [
    "#aggregating functions in numpy\n",
    "\n",
    "a=np.array([20,40,60,80])\n",
    "print(np.sum(a))\n",
    "print(np.max(a))\n",
    "print(np.min(a))\n",
    "print(np.size(a))\n",
    "print(np.mean(a))\n",
    "print(np.cumsum(a))\n",
    "print(np.cumprod(a))"
   ]
  },
  {
   "cell_type": "code",
   "execution_count": 50,
   "id": "ef35beca",
   "metadata": {},
   "outputs": [
    {
     "name": "stdout",
     "output_type": "stream",
     "text": [
      "[10 20 30 40] \n",
      " [1 2 3 4]\n",
      "\n",
      "200\n"
     ]
    }
   ],
   "source": [
    "a=np.array([10,20,30,40])\n",
    "b=np.array([1,2,3,4])\n",
    "\n",
    "price=np.array(a)\n",
    "quantity=np.array(b)\n",
    "\n",
    "print(price, \"\\n\", quantity)\n",
    "print()\n",
    "c=np.cumprod([price, quantity])\n",
    "print(c[1].sum())"
   ]
  },
  {
   "cell_type": "code",
   "execution_count": 55,
   "id": "f962607c",
   "metadata": {},
   "outputs": [
    {
     "name": "stdout",
     "output_type": "stream",
     "text": [
      "337.2857142857143\n",
      "300.0\n",
      "200\n",
      "186.40103792301025\n",
      "34745.34693877551\n"
     ]
    }
   ],
   "source": [
    "#statiscal function\n",
    "\n",
    "import statistics as stats\n",
    "\n",
    "food_price=[200,400,102,300,203,700,456]\n",
    "a=np.array(food_price)\n",
    "print(np.mean(a))\n",
    "print(np.median(a))#centaral value aftr sorting\n",
    "print(stats.mode(a))\n",
    "print(np.std(a))#standers deviation\n",
    "print(np.var(a))# square of std  for example 23**2\n"
   ]
  },
  {
   "cell_type": "code",
   "execution_count": 2,
   "id": "3bc524ae",
   "metadata": {},
   "outputs": [
    {
     "name": "stdout",
     "output_type": "stream",
     "text": [
      "[[1.         0.62011202]\n",
      " [0.62011202 1.        ]]\n"
     ]
    }
   ],
   "source": [
    "#duto data r majhe jodi compare kore dekha hoy je kontar karone kontar man increase hochhe na decrease hochhe tobe shekhane corrcoef use kora hoy\n",
    "import numpy as np\n",
    "\n",
    "price=[200,300,400,230,4010]\n",
    "sales=[10,30,40,20,43]\n",
    "\n",
    "print(np.corrcoef([price,sales]))\n",
    "\n",
    "\n",
    "#-1 means inversly propotional relationship\n",
    "#1 means propotional relationship\n",
    "#0 means no relationship"
   ]
  }
 ],
 "metadata": {
  "kernelspec": {
   "display_name": "Python 3 (ipykernel)",
   "language": "python",
   "name": "python3"
  },
  "language_info": {
   "codemirror_mode": {
    "name": "ipython",
    "version": 3
   },
   "file_extension": ".py",
   "mimetype": "text/x-python",
   "name": "python",
   "nbconvert_exporter": "python",
   "pygments_lexer": "ipython3",
   "version": "3.12.7"
  }
 },
 "nbformat": 4,
 "nbformat_minor": 5
}
